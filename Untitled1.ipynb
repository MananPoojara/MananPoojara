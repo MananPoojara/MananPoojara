{
  "nbformat": 4,
  "nbformat_minor": 0,
  "metadata": {
    "colab": {
      "provenance": [],
      "include_colab_link": true
    },
    "kernelspec": {
      "name": "python3",
      "display_name": "Python 3"
    },
    "language_info": {
      "name": "python"
    }
  },
  "cells": [
    {
      "cell_type": "markdown",
      "metadata": {
        "id": "view-in-github",
        "colab_type": "text"
      },
      "source": [
        "<a href=\"https://colab.research.google.com/github/MananPoojara/MananPoojara/blob/main/Untitled1.ipynb\" target=\"_parent\"><img src=\"https://colab.research.google.com/assets/colab-badge.svg\" alt=\"Open In Colab\"/></a>"
      ]
    },
    {
      "cell_type": "code",
      "source": [
        "import numpy as np\n",
        "\n",
        "# Creating Arrays\n",
        "zeros_array = np.zeros((3, 4))\n",
        "ones_array = np.ones((2, 3, 4), dtype=np.int16)\n",
        "d = np.arange(10, 25, 5)\n",
        "linspace_array = np.linspace(0, 2, 9)\n",
        "e = np.full((2, 2), 7)\n",
        "f = np.eye(2)\n",
        "random_array = np.random.random((2, 2))\n",
        "empty_array = np.empty((3, 2))\n",
        "\n",
        "print(\"zeros_array:\\n\", zeros_array)\n",
        "print(\"ones_array:\\n\", ones_array)\n",
        "print(\"arange array d:\\n\", d)\n",
        "print(\"linspace_array:\\n\", linspace_array)\n",
        "print(\"constant array e:\\n\", e)\n",
        "print(\"identity matrix f:\\n\", f)\n",
        "print(\"random_array:\\n\", random_array)\n",
        "print(\"empty_array:\\n\", empty_array)\n"
      ],
      "metadata": {
        "colab": {
          "base_uri": "https://localhost:8080/"
        },
        "id": "mBJYq14TlBns",
        "outputId": "b33e88b8-9025-472a-823c-761d9ef66419"
      },
      "execution_count": null,
      "outputs": [
        {
          "output_type": "stream",
          "name": "stdout",
          "text": [
            "zeros_array:\n",
            " [[0. 0. 0. 0.]\n",
            " [0. 0. 0. 0.]\n",
            " [0. 0. 0. 0.]]\n",
            "ones_array:\n",
            " [[[1 1 1 1]\n",
            "  [1 1 1 1]\n",
            "  [1 1 1 1]]\n",
            "\n",
            " [[1 1 1 1]\n",
            "  [1 1 1 1]\n",
            "  [1 1 1 1]]]\n",
            "arange array d:\n",
            " [10 15 20]\n",
            "linspace_array:\n",
            " [0.   0.25 0.5  0.75 1.   1.25 1.5  1.75 2.  ]\n",
            "constant array e:\n",
            " [[7 7]\n",
            " [7 7]]\n",
            "identity matrix f:\n",
            " [[1. 0.]\n",
            " [0. 1.]]\n",
            "random_array:\n",
            " [[0.08343737 0.52615108]\n",
            " [0.31405101 0.55205121]]\n",
            "empty_array:\n",
            " [[-0.5  0. ]\n",
            " [ 0.   0. ]\n",
            " [ 0.   0. ]]\n"
          ]
        }
      ]
    },
    {
      "cell_type": "code",
      "source": [
        "\n",
        "# Array Mathematics\n",
        "a = np.array([[1, 2, 3], [4, 5, 6]], dtype=float)\n",
        "b = np.array([[1.5, 2, 3], [4, 5, 6]], dtype=float)\n",
        "\n",
        "g = a - b\n",
        "subtract_array = np.subtract(a, b)\n",
        "addition_array = b + a\n",
        "add_array = np.add(b, a)\n",
        "division_array = a / b\n",
        "divide_array = np.divide(a, b)\n",
        "multiplication_array = a * b\n",
        "multiply_array = np.multiply(a, b)\n",
        "exp_array = np.exp(b)\n",
        "sqrt_array = np.sqrt(b)\n",
        "sin_array = np.sin(a)\n",
        "cos_array = np.cos(b)\n",
        "log_array = np.log(a)\n",
        "dot_product = e.dot(f)\n",
        "\n",
        "print(\"g (a - b):\\n\", g)\n",
        "print(\"subtract_array:\\n\", subtract_array)\n",
        "print(\"addition_array:\\n\", addition_array)\n",
        "print(\"add_array:\\n\", add_array)\n",
        "print(\"division_array:\\n\", division_array)\n",
        "print(\"divide_array:\\n\", divide_array)\n",
        "print(\"multiplication_array:\\n\", multiplication_array)\n",
        "print(\"multiply_array:\\n\", multiply_array)\n",
        "print(\"exp_array:\\n\", exp_array)\n",
        "print(\"sqrt_array:\\n\", sqrt_array)\n",
        "print(\"sin_array:\\n\", sin_array)\n",
        "print(\"cos_array:\\n\", cos_array)\n",
        "print(\"log_array:\\n\", log_array)\n",
        "print(\"dot_product (e dot f):\\n\", dot_product)"
      ],
      "metadata": {
        "colab": {
          "base_uri": "https://localhost:8080/"
        },
        "id": "fcHxaIP3myu6",
        "outputId": "ebd3b5ae-5ba0-4f9a-9439-b349681fe526"
      },
      "execution_count": null,
      "outputs": [
        {
          "output_type": "stream",
          "name": "stdout",
          "text": [
            "g (a - b):\n",
            " [[-0.5  0.   0. ]\n",
            " [ 0.   0.   0. ]]\n",
            "subtract_array:\n",
            " [[-0.5  0.   0. ]\n",
            " [ 0.   0.   0. ]]\n",
            "addition_array:\n",
            " [[ 2.5  4.   6. ]\n",
            " [ 8.  10.  12. ]]\n",
            "add_array:\n",
            " [[ 2.5  4.   6. ]\n",
            " [ 8.  10.  12. ]]\n",
            "division_array:\n",
            " [[0.66666667 1.         1.        ]\n",
            " [1.         1.         1.        ]]\n",
            "divide_array:\n",
            " [[0.66666667 1.         1.        ]\n",
            " [1.         1.         1.        ]]\n",
            "multiplication_array:\n",
            " [[ 1.5  4.   9. ]\n",
            " [16.  25.  36. ]]\n",
            "multiply_array:\n",
            " [[ 1.5  4.   9. ]\n",
            " [16.  25.  36. ]]\n",
            "exp_array:\n",
            " [[  4.48168907   7.3890561   20.08553692]\n",
            " [ 54.59815003 148.4131591  403.42879349]]\n",
            "sqrt_array:\n",
            " [[1.22474487 1.41421356 1.73205081]\n",
            " [2.         2.23606798 2.44948974]]\n",
            "sin_array:\n",
            " [[ 0.84147098  0.90929743  0.14112001]\n",
            " [-0.7568025  -0.95892427 -0.2794155 ]]\n",
            "cos_array:\n",
            " [[ 0.0707372  -0.41614684 -0.9899925 ]\n",
            " [-0.65364362  0.28366219  0.96017029]]\n",
            "log_array:\n",
            " [[0.         0.69314718 1.09861229]\n",
            " [1.38629436 1.60943791 1.79175947]]\n",
            "dot_product (e dot f):\n",
            " [[7. 7.]\n",
            " [7. 7.]]\n"
          ]
        }
      ]
    },
    {
      "cell_type": "code",
      "source": [
        "\n",
        "# Subsetting, Slicing, Indexing\n",
        "a_sum = a.sum()\n",
        "a_min = a.min()\n",
        "b_max = b.max(axis=0)\n",
        "b_cumsum = b.cumsum(axis=1)\n",
        "a_mean = a.mean()\n",
        "b_median = np.median(b)\n",
        "a_corrcoef = np.corrcoef(a)\n",
        "b_std = np.std(b)\n",
        "\n",
        "print(\"a_sum:\\n\", a_sum)\n",
        "print(\"a_min:\\n\", a_min)\n",
        "print(\"b_max:\\n\", b_max)\n",
        "print(\"b_cumsum:\\n\", b_cumsum)\n",
        "print(\"a_mean:\\n\", a_mean)\n",
        "print(\"b_median:\\n\", b_median)\n",
        "print(\"a_corrcoef:\\n\", a_corrcoef)\n",
        "print(\"b_std:\\n\", b_std)"
      ],
      "metadata": {
        "colab": {
          "base_uri": "https://localhost:8080/"
        },
        "id": "e8mqTw3om705",
        "outputId": "d2738e1f-ac0b-43a2-be84-d6624fdc8095"
      },
      "execution_count": null,
      "outputs": [
        {
          "output_type": "stream",
          "name": "stdout",
          "text": [
            "a_sum:\n",
            " 21.0\n",
            "a_min:\n",
            " 1.0\n",
            "b_max:\n",
            " [4. 5. 6.]\n",
            "b_cumsum:\n",
            " [[ 1.5  3.5  6.5]\n",
            " [ 4.   9.  15. ]]\n",
            "a_mean:\n",
            " 3.5\n",
            "b_median:\n",
            " 3.5\n",
            "a_corrcoef:\n",
            " [[1. 1.]\n",
            " [1. 1.]]\n",
            "b_std:\n",
            " 1.5920810978785667\n"
          ]
        }
      ]
    },
    {
      "cell_type": "code",
      "source": [
        "\n",
        "# Comparison\n",
        "elementwise_comparison = a == b\n",
        "elementwise_less_than_2 = a < 2\n",
        "array_equal = np.array_equal(a, b)\n",
        "\n",
        "print(\"elementwise_comparison:\\n\", elementwise_comparison)\n",
        "print(\"elementwise_less_than_2:\\n\", elementwise_less_than_2)\n",
        "print(\"array_equal:\\n\", array_equal)"
      ],
      "metadata": {
        "colab": {
          "base_uri": "https://localhost:8080/"
        },
        "id": "Is-N435-nC5W",
        "outputId": "12855cd3-cfc9-405f-ab2c-b511ac582e6b"
      },
      "execution_count": null,
      "outputs": [
        {
          "output_type": "stream",
          "name": "stdout",
          "text": [
            "elementwise_comparison:\n",
            " [[False  True  True]\n",
            " [ True  True  True]]\n",
            "elementwise_less_than_2:\n",
            " [[ True False False]\n",
            " [False False False]]\n",
            "array_equal:\n",
            " False\n"
          ]
        }
      ]
    },
    {
      "cell_type": "code",
      "source": [
        "\n",
        "# Array Manipulation\n",
        "i = np.transpose(b)\n",
        "i_T = i.T\n",
        "b_ravel = b.ravel()\n",
        "g_reshaped = g.reshape(3, -2)\n",
        "h = np.copy(a)\n",
        "h.resize((2, 6))\n",
        "append_array = np.append(h, g)\n",
        "insert_array = np.insert(a, 1, 5)\n",
        "delete_array = np.delete(a, [1])\n",
        "vstacked_array = np.vstack((a, b))\n",
        "row_stacked_array = np.r_[e, f]\n",
        "hstacked_array = np.hstack((e, f))\n",
        "split_array_h = np.hsplit(a, 3)\n",
        "split_array_v = np.vsplit(np.array([[(1.5, 2, 1), (4, 5, 6)], [(3, 2, 3), (4, 5, 6)]]), 2)\n",
        "\n",
        "print(\"transpose i:\\n\", i)\n",
        "print(\"transpose i_T:\\n\", i_T)\n",
        "print(\"b_ravel:\\n\", b_ravel)\n",
        "print(\"g_reshaped:\\n\", g_reshaped)\n",
        "print(\"h resized:\\n\", h)\n",
        "print(\"append_array:\\n\", append_array)\n",
        "print(\"insert_array:\\n\", insert_array)\n",
        "print(\"delete_array:\\n\", delete_array)\n",
        "print(\"vstacked_array:\\n\", vstacked_array)\n",
        "print(\"row_stacked_array:\\n\", row_stacked_array)\n",
        "print(\"hstacked_array:\\n\", hstacked_array)\n",
        "print(\"split_array_h:\\n\", split_array_h)\n",
        "print(\"split_array_v:\\n\", split_array_v)"
      ],
      "metadata": {
        "colab": {
          "base_uri": "https://localhost:8080/"
        },
        "id": "B9E9fuYenL8h",
        "outputId": "ecdf8d1a-ae3b-4e7d-9a94-d75f093b65ec"
      },
      "execution_count": null,
      "outputs": [
        {
          "output_type": "stream",
          "name": "stdout",
          "text": [
            "transpose i:\n",
            " [[1.5 4. ]\n",
            " [2.  5. ]\n",
            " [3.  6. ]]\n",
            "transpose i_T:\n",
            " [[1.5 2.  3. ]\n",
            " [4.  5.  6. ]]\n",
            "b_ravel:\n",
            " [1.5 2.  3.  4.  5.  6. ]\n",
            "g_reshaped:\n",
            " [[-0.5  0. ]\n",
            " [ 0.   0. ]\n",
            " [ 0.   0. ]]\n",
            "h resized:\n",
            " [[1. 2. 3. 4. 5. 6.]\n",
            " [0. 0. 0. 0. 0. 0.]]\n",
            "append_array:\n",
            " [ 1.   2.   3.   4.   5.   6.   0.   0.   0.   0.   0.   0.  -0.5  0.\n",
            "  0.   0.   0.   0. ]\n",
            "insert_array:\n",
            " [1. 5. 2. 3. 4. 5. 6.]\n",
            "delete_array:\n",
            " [1. 3. 4. 5. 6.]\n",
            "vstacked_array:\n",
            " [[1.  2.  3. ]\n",
            " [4.  5.  6. ]\n",
            " [1.5 2.  3. ]\n",
            " [4.  5.  6. ]]\n",
            "row_stacked_array:\n",
            " [[7. 7.]\n",
            " [7. 7.]\n",
            " [1. 0.]\n",
            " [0. 1.]]\n",
            "hstacked_array:\n",
            " [[7. 7. 1. 0.]\n",
            " [7. 7. 0. 1.]]\n",
            "split_array_h:\n",
            " [array([[1.],\n",
            "       [4.]]), array([[2.],\n",
            "       [5.]]), array([[3.],\n",
            "       [6.]])]\n",
            "split_array_v:\n",
            " [array([[[1.5, 2. , 1. ],\n",
            "        [4. , 5. , 6. ]]]), array([[[3., 2., 3.],\n",
            "        [4., 5., 6.]]])]\n"
          ]
        }
      ]
    },
    {
      "cell_type": "code",
      "source": [
        "\n",
        "# Subsetting and Slicing\n",
        "subset_a = a[2] if len(a) > 2 else None\n",
        "subset_b = b[1, 2]\n",
        "slice_a = a[0:2]\n",
        "slice_b = b[0:2, 1]\n",
        "slice_b_all_row_0 = b[:1]\n",
        "slice_c = np.array([[(1.5, 2, 3), (4, 5, 6)], [(3, 2, 1), (4, 5, 6)]], dtype=float)[1, ...]\n",
        "reversed_a = a[::-1]\n",
        "boolean_indexing_a = a[a < 2]\n",
        "fancy_indexing_b = b[[1, 0, 1, 0], [0, 1, 2, 0]]\n",
        "fancy_indexing_matrix = b[[1, 0, 1, 0]][:, [0, 1, 2, 0]]\n",
        "\n",
        "print(\"subset_a:\\n\", subset_a)\n",
        "print(\"subset_b:\\n\", subset_b)\n",
        "print(\"slice_a:\\n\", slice_a)\n",
        "print(\"slice_b:\\n\", slice_b)\n",
        "print(\"slice_b_all_row_0:\\n\", slice_b_all_row_0)\n",
        "print(\"slice_c:\\n\", slice_c)\n",
        "print(\"reversed_a:\\n\", reversed_a)\n",
        "print(\"boolean_indexing_a:\\n\", boolean_indexing_a)\n",
        "print(\"fancy_indexing_b:\\n\", fancy_indexing_b)\n",
        "print(\"fancy_indexing_matrix:\\n\", fancy_indexing_matrix)"
      ],
      "metadata": {
        "colab": {
          "base_uri": "https://localhost:8080/"
        },
        "id": "pJ3AB0XYnisI",
        "outputId": "8aaec5c2-0496-4266-8478-5bf43c912f9a"
      },
      "execution_count": null,
      "outputs": [
        {
          "output_type": "stream",
          "name": "stdout",
          "text": [
            "subset_a:\n",
            " None\n",
            "subset_b:\n",
            " 6.0\n",
            "slice_a:\n",
            " [[1. 2. 3.]\n",
            " [4. 5. 6.]]\n",
            "slice_b:\n",
            " [2. 5.]\n",
            "slice_b_all_row_0:\n",
            " [[1.5 2.  3. ]]\n",
            "slice_c:\n",
            " [[3. 2. 1.]\n",
            " [4. 5. 6.]]\n",
            "reversed_a:\n",
            " [[4. 5. 6.]\n",
            " [1. 2. 3.]]\n",
            "boolean_indexing_a:\n",
            " [1.]\n",
            "fancy_indexing_b:\n",
            " [4.  2.  6.  1.5]\n",
            "fancy_indexing_matrix:\n",
            " [[4.  5.  6.  4. ]\n",
            " [1.5 2.  3.  1.5]\n",
            " [4.  5.  6.  4. ]\n",
            " [1.5 2.  3.  1.5]]\n"
          ]
        }
      ]
    },
    {
      "cell_type": "code",
      "source": [
        "# Copying Arrays\n",
        "h_view = a.view()\n",
        "a_copy = np.copy(a)\n",
        "h_copy = a.copy()\n",
        "\n",
        "print(\"h_view:\\n\", h_view)\n",
        "print(\"a_copy:\\n\", a_copy)\n",
        "print(\"h_copy:\\n\", h_copy)\n"
      ],
      "metadata": {
        "colab": {
          "base_uri": "https://localhost:8080/"
        },
        "id": "Hs33tM1knq36",
        "outputId": "382e9291-88ed-4e7c-a776-dd9f1fec32c2"
      },
      "execution_count": null,
      "outputs": [
        {
          "output_type": "stream",
          "name": "stdout",
          "text": [
            "h_view:\n",
            " [[1. 2. 3.]\n",
            " [4. 5. 6.]]\n",
            "a_copy:\n",
            " [[1. 2. 3.]\n",
            " [4. 5. 6.]]\n",
            "h_copy:\n",
            " [[1. 2. 3.]\n",
            " [4. 5. 6.]]\n"
          ]
        }
      ]
    },
    {
      "cell_type": "code",
      "source": [
        "# Inspecting Your Array\n",
        "import numpy as np\n",
        "\n",
        "a = np.array([[1, 2, 3], [4, 5, 6]], dtype=float)\n",
        "b = np.array([[1.5, 2, 3], [4, 5, 6]], dtype=float)\n",
        "a_shape = a.shape\n",
        "a_len = len(a)\n",
        "b_ndim = b.ndim\n",
        "a_size = a.size\n",
        "\n",
        "print(\"a_shape:\\n\", a_shape)\n",
        "print(\"a_len:\\n\", a_len)\n",
        "print(\"b_ndim:\\n\", b_ndim)\n",
        "print(\"a_size:\\n\", a_size)"
      ],
      "metadata": {
        "colab": {
          "base_uri": "https://localhost:8080/"
        },
        "id": "-f_1AqdJn1kj",
        "outputId": "d4c43ff6-4923-4534-8ce2-8c1af7ee233f"
      },
      "execution_count": 7,
      "outputs": [
        {
          "output_type": "stream",
          "name": "stdout",
          "text": [
            "a_shape:\n",
            " (2, 3)\n",
            "a_len:\n",
            " 2\n",
            "b_ndim:\n",
            " 2\n",
            "a_size:\n",
            " 6\n"
          ]
        }
      ]
    },
    {
      "cell_type": "code",
      "source": [
        "# Sorting Arrays\n",
        "a.sort()\n",
        "c = np.array([[[1.5, 2, 3], [4, 5, 6]], [[3, 2, 1], [4, 5, 6]]], dtype=float)\n",
        "c.sort(axis=0)\n",
        "\n",
        "print(\"sorted a:\\n\", a)\n",
        "print(\"sorted c along axis 0:\\n\", c)"
      ],
      "metadata": {
        "colab": {
          "base_uri": "https://localhost:8080/"
        },
        "id": "982ChYCGoD_a",
        "outputId": "5bb48e15-47d7-469d-bb9e-8dc0a5bb6a75"
      },
      "execution_count": null,
      "outputs": [
        {
          "output_type": "stream",
          "name": "stdout",
          "text": [
            "sorted a:\n",
            " [[1. 2. 3.]\n",
            " [4. 5. 6.]]\n",
            "sorted c along axis 0:\n",
            " [[[1.5 2.  1. ]\n",
            "  [4.  5.  6. ]]\n",
            "\n",
            " [[3.  2.  3. ]\n",
            "  [4.  5.  6. ]]]\n"
          ]
        }
      ]
    },
    {
      "cell_type": "code",
      "source": [
        "# Data Types\n",
        "int64_array = np.array([1, 2, 3], dtype=np.int64)\n",
        "float32_array = np.array([1.0, 2.0, 3.0], dtype=np.float32)\n",
        "bool_array = np.array([True, False, True], dtype=np.bool_)\n",
        "string_array = np.array([\"a\", \"b\", \"c\"], dtype=np.string_)\n",
        "unicode_array = np.array([\"a\", \"b\", \"c\"], dtype=np.unicode_)\n",
        "\n",
        "print(\"int64_array:\\n\", int64_array)\n",
        "print(\"float32_array:\\n\", float32_array)\n",
        "print(\"bool_array:\\n\", bool_array)\n",
        "print(\"string_array:\\n\", string_array)\n",
        "print(\"unicode_array:\\n\", unicode_array)"
      ],
      "metadata": {
        "id": "zqB9is9TolcK",
        "outputId": "09ad401a-848d-4f34-8a38-a2c5e5214f4f",
        "colab": {
          "base_uri": "https://localhost:8080/"
        }
      },
      "execution_count": null,
      "outputs": [
        {
          "output_type": "stream",
          "name": "stdout",
          "text": [
            "int64_array:\n",
            " [1 2 3]\n",
            "float32_array:\n",
            " [1. 2. 3.]\n",
            "bool_array:\n",
            " [ True False  True]\n",
            "string_array:\n",
            " [b'a' b'b' b'c']\n",
            "unicode_array:\n",
            " ['a' 'b' 'c']\n"
          ]
        }
      ]
    }
  ]
}